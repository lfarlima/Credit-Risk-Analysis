{
 "cells": [
  {
   "cell_type": "markdown",
   "metadata": {},
   "source": [
    "# Credit Risk Resampling Techniques"
   ]
  },
  {
   "cell_type": "code",
   "execution_count": 1,
   "metadata": {},
   "outputs": [],
   "source": [
    "import warnings\n",
    "warnings.filterwarnings('ignore')"
   ]
  },
  {
   "cell_type": "code",
   "execution_count": 2,
   "metadata": {},
   "outputs": [],
   "source": [
    "# initial imports\n",
    "import numpy as np\n",
    "import pandas as pd\n",
    "from pathlib import Path\n",
    "from collections import Counter\n",
    "from sklearn import tree\n",
    "from sklearn.linear_model import LogisticRegression\n",
    "from sklearn.preprocessing import StandardScaler\n",
    "from sklearn.model_selection import train_test_split\n",
    "from sklearn.metrics import confusion_matrix, balanced_accuracy_score\n",
    "from imblearn.metrics import classification_report_imbalanced\n",
    "from imblearn.over_sampling import RandomOverSampler, SMOTE\n",
    "from imblearn.under_sampling import ClusterCentroids\n",
    "from imblearn.combine import SMOTEENN\n"
   ]
  },
  {
   "cell_type": "markdown",
   "metadata": {},
   "source": [
    "# Read the CSV into DataFrame"
   ]
  },
  {
   "cell_type": "code",
   "execution_count": 3,
   "metadata": {},
   "outputs": [
    {
     "output_type": "execute_result",
     "data": {
      "text/plain": [
       "   loan_size  interest_rate homeowner  borrower_income  debt_to_income  \\\n",
       "0    10700.0          7.672       own            52800        0.431818   \n",
       "1     8400.0          6.692       own            43600        0.311927   \n",
       "2     9000.0          6.963      rent            46100        0.349241   \n",
       "3    10700.0          7.664       own            52700        0.430740   \n",
       "4    10800.0          7.698  mortgage            53000        0.433962   \n",
       "\n",
       "   num_of_accounts  derogatory_marks  total_debt loan_status  \n",
       "0                5                 1       22800    low_risk  \n",
       "1                3                 0       13600    low_risk  \n",
       "2                3                 0       16100    low_risk  \n",
       "3                5                 1       22700    low_risk  \n",
       "4                5                 1       23000    low_risk  "
      ],
      "text/html": "<div>\n<style scoped>\n    .dataframe tbody tr th:only-of-type {\n        vertical-align: middle;\n    }\n\n    .dataframe tbody tr th {\n        vertical-align: top;\n    }\n\n    .dataframe thead th {\n        text-align: right;\n    }\n</style>\n<table border=\"1\" class=\"dataframe\">\n  <thead>\n    <tr style=\"text-align: right;\">\n      <th></th>\n      <th>loan_size</th>\n      <th>interest_rate</th>\n      <th>homeowner</th>\n      <th>borrower_income</th>\n      <th>debt_to_income</th>\n      <th>num_of_accounts</th>\n      <th>derogatory_marks</th>\n      <th>total_debt</th>\n      <th>loan_status</th>\n    </tr>\n  </thead>\n  <tbody>\n    <tr>\n      <th>0</th>\n      <td>10700.0</td>\n      <td>7.672</td>\n      <td>own</td>\n      <td>52800</td>\n      <td>0.431818</td>\n      <td>5</td>\n      <td>1</td>\n      <td>22800</td>\n      <td>low_risk</td>\n    </tr>\n    <tr>\n      <th>1</th>\n      <td>8400.0</td>\n      <td>6.692</td>\n      <td>own</td>\n      <td>43600</td>\n      <td>0.311927</td>\n      <td>3</td>\n      <td>0</td>\n      <td>13600</td>\n      <td>low_risk</td>\n    </tr>\n    <tr>\n      <th>2</th>\n      <td>9000.0</td>\n      <td>6.963</td>\n      <td>rent</td>\n      <td>46100</td>\n      <td>0.349241</td>\n      <td>3</td>\n      <td>0</td>\n      <td>16100</td>\n      <td>low_risk</td>\n    </tr>\n    <tr>\n      <th>3</th>\n      <td>10700.0</td>\n      <td>7.664</td>\n      <td>own</td>\n      <td>52700</td>\n      <td>0.430740</td>\n      <td>5</td>\n      <td>1</td>\n      <td>22700</td>\n      <td>low_risk</td>\n    </tr>\n    <tr>\n      <th>4</th>\n      <td>10800.0</td>\n      <td>7.698</td>\n      <td>mortgage</td>\n      <td>53000</td>\n      <td>0.433962</td>\n      <td>5</td>\n      <td>1</td>\n      <td>23000</td>\n      <td>low_risk</td>\n    </tr>\n  </tbody>\n</table>\n</div>"
     },
     "metadata": {},
     "execution_count": 3
    }
   ],
   "source": [
    "# Load the data\n",
    "file_path = Path('Resources/lending_data.csv')\n",
    "df = pd.read_csv(file_path)\n",
    "df.head()"
   ]
  },
  {
   "cell_type": "code",
   "execution_count": 4,
   "metadata": {},
   "outputs": [
    {
     "output_type": "stream",
     "name": "stdout",
     "text": [
      "<class 'pandas.core.frame.DataFrame'>\nRangeIndex: 77536 entries, 0 to 77535\nData columns (total 9 columns):\n #   Column            Non-Null Count  Dtype  \n---  ------            --------------  -----  \n 0   loan_size         77536 non-null  float64\n 1   interest_rate     77536 non-null  float64\n 2   homeowner         77536 non-null  object \n 3   borrower_income   77536 non-null  int64  \n 4   debt_to_income    77536 non-null  float64\n 5   num_of_accounts   77536 non-null  int64  \n 6   derogatory_marks  77536 non-null  int64  \n 7   total_debt        77536 non-null  int64  \n 8   loan_status       77536 non-null  object \ndtypes: float64(3), int64(4), object(2)\nmemory usage: 5.3+ MB\n"
     ]
    }
   ],
   "source": [
    "df.info()"
   ]
  },
  {
   "cell_type": "markdown",
   "metadata": {},
   "source": [
    "# Split the Data into Training and Testing"
   ]
  },
  {
   "cell_type": "code",
   "execution_count": 5,
   "metadata": {},
   "outputs": [],
   "source": [
    "# Create our features\n",
    "X = pd.get_dummies(df.drop('loan_status',1)) # convert homeowner column to category columns\n",
    "\n",
    "# Create our target\n",
    "y = df['loan_status'].values.reshape(-1,1)"
   ]
  },
  {
   "cell_type": "code",
   "execution_count": 6,
   "metadata": {},
   "outputs": [
    {
     "output_type": "execute_result",
     "data": {
      "text/plain": [
       "          loan_size  interest_rate  borrower_income  debt_to_income  \\\n",
       "count  77536.000000   77536.000000     77536.000000    77536.000000   \n",
       "mean    9805.562577       7.292333     49221.949804        0.377318   \n",
       "std     2093.223153       0.889495      8371.635077        0.081519   \n",
       "min     5000.000000       5.250000     30000.000000        0.000000   \n",
       "25%     8700.000000       6.825000     44800.000000        0.330357   \n",
       "50%     9500.000000       7.172000     48100.000000        0.376299   \n",
       "75%    10400.000000       7.528000     51400.000000        0.416342   \n",
       "max    23800.000000      13.235000    105200.000000        0.714829   \n",
       "\n",
       "       num_of_accounts  derogatory_marks    total_debt  homeowner_mortgage  \\\n",
       "count     77536.000000      77536.000000  77536.000000        77536.000000   \n",
       "mean          3.826610          0.392308  19221.949804            0.497472   \n",
       "std           1.904426          0.582086   8371.635077            0.499997   \n",
       "min           0.000000          0.000000      0.000000            0.000000   \n",
       "25%           3.000000          0.000000  14800.000000            0.000000   \n",
       "50%           4.000000          0.000000  18100.000000            0.000000   \n",
       "75%           4.000000          1.000000  21400.000000            1.000000   \n",
       "max          16.000000          3.000000  75200.000000            1.000000   \n",
       "\n",
       "       homeowner_own  homeowner_rent  \n",
       "count   77536.000000    77536.000000  \n",
       "mean        0.398911        0.103616  \n",
       "std         0.489678        0.304764  \n",
       "min         0.000000        0.000000  \n",
       "25%         0.000000        0.000000  \n",
       "50%         0.000000        0.000000  \n",
       "75%         1.000000        0.000000  \n",
       "max         1.000000        1.000000  "
      ],
      "text/html": "<div>\n<style scoped>\n    .dataframe tbody tr th:only-of-type {\n        vertical-align: middle;\n    }\n\n    .dataframe tbody tr th {\n        vertical-align: top;\n    }\n\n    .dataframe thead th {\n        text-align: right;\n    }\n</style>\n<table border=\"1\" class=\"dataframe\">\n  <thead>\n    <tr style=\"text-align: right;\">\n      <th></th>\n      <th>loan_size</th>\n      <th>interest_rate</th>\n      <th>borrower_income</th>\n      <th>debt_to_income</th>\n      <th>num_of_accounts</th>\n      <th>derogatory_marks</th>\n      <th>total_debt</th>\n      <th>homeowner_mortgage</th>\n      <th>homeowner_own</th>\n      <th>homeowner_rent</th>\n    </tr>\n  </thead>\n  <tbody>\n    <tr>\n      <th>count</th>\n      <td>77536.000000</td>\n      <td>77536.000000</td>\n      <td>77536.000000</td>\n      <td>77536.000000</td>\n      <td>77536.000000</td>\n      <td>77536.000000</td>\n      <td>77536.000000</td>\n      <td>77536.000000</td>\n      <td>77536.000000</td>\n      <td>77536.000000</td>\n    </tr>\n    <tr>\n      <th>mean</th>\n      <td>9805.562577</td>\n      <td>7.292333</td>\n      <td>49221.949804</td>\n      <td>0.377318</td>\n      <td>3.826610</td>\n      <td>0.392308</td>\n      <td>19221.949804</td>\n      <td>0.497472</td>\n      <td>0.398911</td>\n      <td>0.103616</td>\n    </tr>\n    <tr>\n      <th>std</th>\n      <td>2093.223153</td>\n      <td>0.889495</td>\n      <td>8371.635077</td>\n      <td>0.081519</td>\n      <td>1.904426</td>\n      <td>0.582086</td>\n      <td>8371.635077</td>\n      <td>0.499997</td>\n      <td>0.489678</td>\n      <td>0.304764</td>\n    </tr>\n    <tr>\n      <th>min</th>\n      <td>5000.000000</td>\n      <td>5.250000</td>\n      <td>30000.000000</td>\n      <td>0.000000</td>\n      <td>0.000000</td>\n      <td>0.000000</td>\n      <td>0.000000</td>\n      <td>0.000000</td>\n      <td>0.000000</td>\n      <td>0.000000</td>\n    </tr>\n    <tr>\n      <th>25%</th>\n      <td>8700.000000</td>\n      <td>6.825000</td>\n      <td>44800.000000</td>\n      <td>0.330357</td>\n      <td>3.000000</td>\n      <td>0.000000</td>\n      <td>14800.000000</td>\n      <td>0.000000</td>\n      <td>0.000000</td>\n      <td>0.000000</td>\n    </tr>\n    <tr>\n      <th>50%</th>\n      <td>9500.000000</td>\n      <td>7.172000</td>\n      <td>48100.000000</td>\n      <td>0.376299</td>\n      <td>4.000000</td>\n      <td>0.000000</td>\n      <td>18100.000000</td>\n      <td>0.000000</td>\n      <td>0.000000</td>\n      <td>0.000000</td>\n    </tr>\n    <tr>\n      <th>75%</th>\n      <td>10400.000000</td>\n      <td>7.528000</td>\n      <td>51400.000000</td>\n      <td>0.416342</td>\n      <td>4.000000</td>\n      <td>1.000000</td>\n      <td>21400.000000</td>\n      <td>1.000000</td>\n      <td>1.000000</td>\n      <td>0.000000</td>\n    </tr>\n    <tr>\n      <th>max</th>\n      <td>23800.000000</td>\n      <td>13.235000</td>\n      <td>105200.000000</td>\n      <td>0.714829</td>\n      <td>16.000000</td>\n      <td>3.000000</td>\n      <td>75200.000000</td>\n      <td>1.000000</td>\n      <td>1.000000</td>\n      <td>1.000000</td>\n    </tr>\n  </tbody>\n</table>\n</div>"
     },
     "metadata": {},
     "execution_count": 6
    }
   ],
   "source": [
    "X.describe()"
   ]
  },
  {
   "cell_type": "code",
   "execution_count": 7,
   "metadata": {},
   "outputs": [
    {
     "output_type": "execute_result",
     "data": {
      "text/plain": [
       "array([['low_risk'],\n",
       "       ['low_risk'],\n",
       "       ['low_risk'],\n",
       "       ['low_risk'],\n",
       "       ['low_risk']], dtype=object)"
      ]
     },
     "metadata": {},
     "execution_count": 7
    }
   ],
   "source": [
    "# Check the balance of our target values\n",
    "y[:5]"
   ]
  },
  {
   "cell_type": "code",
   "execution_count": 8,
   "metadata": {},
   "outputs": [],
   "source": [
    "# Create X_train, X_test, y_train, y_test\n",
    "X_train,X_test,y_train,y_test = train_test_split(X,y,random_state=1)\n",
    "classifier = LogisticRegression(solver='lbfgs', random_state=1)"
   ]
  },
  {
   "cell_type": "markdown",
   "metadata": {},
   "source": [
    "## Data Pre-Processing\n",
    "\n",
    "Scale the training and testing data using the `StandardScaler` from `sklearn`. Remember that when scaling the data, you only scale the features data (`X_train` and `X_testing`)."
   ]
  },
  {
   "cell_type": "code",
   "execution_count": 9,
   "metadata": {},
   "outputs": [],
   "source": [
    "# Create the StandardScaler instance\n",
    "scaler = StandardScaler()"
   ]
  },
  {
   "cell_type": "code",
   "execution_count": 10,
   "metadata": {},
   "outputs": [],
   "source": [
    "# Fit the Standard Scaler with the training data\n",
    "X_scaler = scaler.fit(X_train)"
   ]
  },
  {
   "cell_type": "code",
   "execution_count": 11,
   "metadata": {},
   "outputs": [],
   "source": [
    "# Scale the training and testing data\n",
    "X_train = X_scaler.transform(X_train)\n",
    "X_test = X_scaler.transform(X_test)"
   ]
  },
  {
   "cell_type": "markdown",
   "metadata": {},
   "source": [
    "# Simple Logistic Regression"
   ]
  },
  {
   "cell_type": "code",
   "execution_count": 12,
   "metadata": {},
   "outputs": [],
   "source": [
    "# Create a Logistic Regression model\n",
    "slr_model = classifier.fit(X_train, y_train)"
   ]
  },
  {
   "cell_type": "code",
   "execution_count": 13,
   "metadata": {},
   "outputs": [
    {
     "output_type": "stream",
     "name": "stdout",
     "text": [
      "Simple Logistic Regression Model BalancedAccuracy Score 0.9889115309798473\n"
     ]
    }
   ],
   "source": [
    "# Calculated the balanced accuracy score\n",
    "y_slr_pred = slr_model.predict(X_test)\n",
    "slr_bac = balanced_accuracy_score(y_test, y_slr_pred)\n",
    "print('Simple Logistic Regression Model BalancedAccuracy Score',slr_bac)"
   ]
  },
  {
   "cell_type": "code",
   "execution_count": 14,
   "metadata": {},
   "outputs": [
    {
     "output_type": "stream",
     "name": "stdout",
     "text": [
      "Logistic Regression Confusion Matrix\n"
     ]
    },
    {
     "output_type": "display_data",
     "data": {
      "text/plain": "          Predicted 0  Predicted 1\nActual 0          609           10\nActual 1          113        18652",
      "text/html": "<div>\n<style scoped>\n    .dataframe tbody tr th:only-of-type {\n        vertical-align: middle;\n    }\n\n    .dataframe tbody tr th {\n        vertical-align: top;\n    }\n\n    .dataframe thead th {\n        text-align: right;\n    }\n</style>\n<table border=\"1\" class=\"dataframe\">\n  <thead>\n    <tr style=\"text-align: right;\">\n      <th></th>\n      <th>Predicted 0</th>\n      <th>Predicted 1</th>\n    </tr>\n  </thead>\n  <tbody>\n    <tr>\n      <th>Actual 0</th>\n      <td>609</td>\n      <td>10</td>\n    </tr>\n    <tr>\n      <th>Actual 1</th>\n      <td>113</td>\n      <td>18652</td>\n    </tr>\n  </tbody>\n</table>\n</div>"
     },
     "metadata": {}
    }
   ],
   "source": [
    "# Display the confusion matrix\n",
    "log_reg_cm = pd.DataFrame(confusion_matrix(y_test, y_slr_pred),index=['Actual 0','Actual 1'], columns=['Predicted 0','Predicted 1'])\n",
    "print('Logistic Regression Confusion Matrix')\n",
    "display(log_reg_cm)"
   ]
  },
  {
   "cell_type": "code",
   "execution_count": 15,
   "metadata": {},
   "outputs": [
    {
     "output_type": "stream",
     "name": "stdout",
     "text": [
      "                   pre       rec       spe        f1       geo       iba       sup\n\n  high_risk       0.84      0.98      0.99      0.91      0.99      0.98       619\n   low_risk       1.00      0.99      0.98      1.00      0.99      0.98     18765\n\navg / total       0.99      0.99      0.98      0.99      0.99      0.98     19384\n\n"
     ]
    }
   ],
   "source": [
    "# Print the imbalanced classification report\n",
    "slr_report = classification_report_imbalanced(y_test, y_slr_pred)\n",
    "print(slr_report)"
   ]
  },
  {
   "cell_type": "markdown",
   "metadata": {},
   "source": [
    "# Oversampling\n",
    "\n",
    "In this section, you will compare two oversampling algorithms to determine which algorithm results in the best performance. You will oversample the data using the naive random oversampling algorithm and the SMOTE algorithm. For each algorithm, be sure to complete the following steps:\n",
    "\n",
    "1. View the count of the target classes using `Counter` from the collections library. \n",
    "3. Use the resampled data to train a logistic regression model.\n",
    "3. Calculate the balanced accuracy score from sklearn.metrics.\n",
    "4. Print the confusion matrix from sklearn.metrics.\n",
    "5. Generate a classication report using the `imbalanced_classification_report` from imbalanced-learn.\n",
    "\n",
    "Note: Use a random state of 1 for each sampling algorithm to ensure consistency between tests"
   ]
  },
  {
   "cell_type": "markdown",
   "metadata": {},
   "source": [
    "### Naive Random Oversampling"
   ]
  },
  {
   "cell_type": "code",
   "execution_count": 16,
   "metadata": {},
   "outputs": [
    {
     "output_type": "execute_result",
     "data": {
      "text/plain": [
       "Counter({'low_risk': 56271, 'high_risk': 56271})"
      ]
     },
     "metadata": {},
     "execution_count": 16
    }
   ],
   "source": [
    "# Resample the training data with the RandomOversampler\n",
    "ros = RandomOverSampler()\n",
    "X_ros_resampled, y_ros_resampled = ros.fit_resample(X_train,y_train)\n",
    "\n",
    "# View the count of target classes with Counter\n",
    "Counter(y_ros_resampled)"
   ]
  },
  {
   "cell_type": "code",
   "execution_count": 17,
   "metadata": {},
   "outputs": [],
   "source": [
    "# Train the Logistic Regression model using the resampled data\n",
    "ros_model = classifier.fit(X_ros_resampled, y_ros_resampled)"
   ]
  },
  {
   "cell_type": "code",
   "execution_count": 18,
   "metadata": {},
   "outputs": [
    {
     "output_type": "stream",
     "name": "stdout",
     "text": [
      "Naive Random Oversampling Model Balanced Accuracy Score 0.9934383134311076\n"
     ]
    }
   ],
   "source": [
    "# Calculated the balanced accuracy score\n",
    "y_ros_pred = ros_model.predict(X_test)\n",
    "ros_bac = balanced_accuracy_score(y_test,y_ros_pred)\n",
    "print('Naive Random Oversampling Model Balanced Accuracy Score',ros_bac)"
   ]
  },
  {
   "cell_type": "code",
   "execution_count": 19,
   "metadata": {},
   "outputs": [
    {
     "output_type": "stream",
     "name": "stdout",
     "text": [
      "Random OverSampling Confusion Matrix\n"
     ]
    },
    {
     "output_type": "display_data",
     "data": {
      "text/plain": "          Predicted 0  Predicted 1\nActual 0          615            4\nActual 1          125        18640",
      "text/html": "<div>\n<style scoped>\n    .dataframe tbody tr th:only-of-type {\n        vertical-align: middle;\n    }\n\n    .dataframe tbody tr th {\n        vertical-align: top;\n    }\n\n    .dataframe thead th {\n        text-align: right;\n    }\n</style>\n<table border=\"1\" class=\"dataframe\">\n  <thead>\n    <tr style=\"text-align: right;\">\n      <th></th>\n      <th>Predicted 0</th>\n      <th>Predicted 1</th>\n    </tr>\n  </thead>\n  <tbody>\n    <tr>\n      <th>Actual 0</th>\n      <td>615</td>\n      <td>4</td>\n    </tr>\n    <tr>\n      <th>Actual 1</th>\n      <td>125</td>\n      <td>18640</td>\n    </tr>\n  </tbody>\n</table>\n</div>"
     },
     "metadata": {}
    }
   ],
   "source": [
    "# Display the confusion matrix\n",
    "ros_cm = pd.DataFrame(confusion_matrix(y_test,y_ros_pred),index=['Actual 0','Actual 1'], columns=['Predicted 0','Predicted 1'])\n",
    "print('Random OverSampling Confusion Matrix')\n",
    "display(ros_cm)"
   ]
  },
  {
   "cell_type": "code",
   "execution_count": 20,
   "metadata": {},
   "outputs": [
    {
     "output_type": "stream",
     "name": "stdout",
     "text": [
      "                   pre       rec       spe        f1       geo       iba       sup\n\n  high_risk       0.83      0.99      0.99      0.91      0.99      0.99       619\n   low_risk       1.00      0.99      0.99      1.00      0.99      0.99     18765\n\navg / total       0.99      0.99      0.99      0.99      0.99      0.99     19384\n\n"
     ]
    }
   ],
   "source": [
    "# Print the imbalanced classification report\n",
    "ros_report = classification_report_imbalanced(y_test,y_ros_pred)\n",
    "print(ros_report)"
   ]
  },
  {
   "cell_type": "markdown",
   "metadata": {},
   "source": [
    "### SMOTE Oversampling"
   ]
  },
  {
   "cell_type": "code",
   "execution_count": 21,
   "metadata": {},
   "outputs": [
    {
     "output_type": "execute_result",
     "data": {
      "text/plain": [
       "Counter({'low_risk': 56271, 'high_risk': 56271})"
      ]
     },
     "metadata": {},
     "execution_count": 21
    }
   ],
   "source": [
    "# Resample the training data with SMOTE\n",
    "smote = SMOTE(random_state=1,sampling_strategy=1.0)\n",
    "X_smote_resampled,y_smote_resampled= smote.fit_resample(X_train,y_train)\n",
    "# View the count of target classes with Counter\n",
    "Counter(y_smote_resampled)"
   ]
  },
  {
   "cell_type": "code",
   "execution_count": 22,
   "metadata": {},
   "outputs": [],
   "source": [
    "# Train the Logistic Regression model using the resampled data\n",
    "smote_model = classifier.fit(X_smote_resampled, y_smote_resampled)"
   ]
  },
  {
   "cell_type": "code",
   "execution_count": 23,
   "metadata": {},
   "outputs": [
    {
     "output_type": "stream",
     "name": "stdout",
     "text": [
      "SMOTE Oversampling Model Balanced Accuracy Score 0.9934649587814939\n"
     ]
    }
   ],
   "source": [
    "# Calculated the balanced accuracy score\n",
    "y_smote_pred = smote_model.predict(X_test)\n",
    "smote_bac = balanced_accuracy_score(y_test,y_smote_pred)\n",
    "print('SMOTE Oversampling Model Balanced Accuracy Score',smote_bac)"
   ]
  },
  {
   "cell_type": "code",
   "execution_count": 24,
   "metadata": {},
   "outputs": [
    {
     "output_type": "stream",
     "name": "stdout",
     "text": [
      "SMOTE Model Confusion Matrix\n"
     ]
    },
    {
     "output_type": "display_data",
     "data": {
      "text/plain": "          Predicted 0  Predicted 1\nActual 0          615            4\nActual 1          124        18641",
      "text/html": "<div>\n<style scoped>\n    .dataframe tbody tr th:only-of-type {\n        vertical-align: middle;\n    }\n\n    .dataframe tbody tr th {\n        vertical-align: top;\n    }\n\n    .dataframe thead th {\n        text-align: right;\n    }\n</style>\n<table border=\"1\" class=\"dataframe\">\n  <thead>\n    <tr style=\"text-align: right;\">\n      <th></th>\n      <th>Predicted 0</th>\n      <th>Predicted 1</th>\n    </tr>\n  </thead>\n  <tbody>\n    <tr>\n      <th>Actual 0</th>\n      <td>615</td>\n      <td>4</td>\n    </tr>\n    <tr>\n      <th>Actual 1</th>\n      <td>124</td>\n      <td>18641</td>\n    </tr>\n  </tbody>\n</table>\n</div>"
     },
     "metadata": {}
    }
   ],
   "source": [
    "# Display the confusion matrix\n",
    "smote_cm = pd.DataFrame(confusion_matrix(y_test,y_smote_pred),index=['Actual 0','Actual 1'], columns=['Predicted 0','Predicted 1'])\n",
    "print('SMOTE Model Confusion Matrix')\n",
    "display(smote_cm)"
   ]
  },
  {
   "cell_type": "code",
   "execution_count": 25,
   "metadata": {},
   "outputs": [
    {
     "output_type": "stream",
     "name": "stdout",
     "text": [
      "                   pre       rec       spe        f1       geo       iba       sup\n\n  high_risk       0.83      0.99      0.99      0.91      0.99      0.99       619\n   low_risk       1.00      0.99      0.99      1.00      0.99      0.99     18765\n\navg / total       0.99      0.99      0.99      0.99      0.99      0.99     19384\n\n"
     ]
    }
   ],
   "source": [
    "# Print the imbalanced classification report\n",
    "smote_report = classification_report_imbalanced(y_test,y_smote_pred)\n",
    "print(smote_report)"
   ]
  },
  {
   "cell_type": "markdown",
   "metadata": {},
   "source": [
    "# Undersampling\n",
    "\n",
    "In this section, you will test an undersampling algorithm to determine which algorithm results in the best performance compared to the oversampling algorithms above. You will undersample the data using the Cluster Centroids algorithm and complete the folliowing steps:\n",
    "\n",
    "1. View the count of the target classes using `Counter` from the collections library. \n",
    "3. Use the resampled data to train a logistic regression model.\n",
    "3. Calculate the balanced accuracy score from sklearn.metrics.\n",
    "4. Display the confusion matrix from sklearn.metrics.\n",
    "5. Generate a classication report using the `imbalanced_classification_report` from imbalanced-learn.\n",
    "\n",
    "Note: Use a random state of 1 for each sampling algorithm to ensure consistency between tests"
   ]
  },
  {
   "cell_type": "code",
   "execution_count": 26,
   "metadata": {},
   "outputs": [
    {
     "output_type": "execute_result",
     "data": {
      "text/plain": [
       "Counter({'high_risk': 1881, 'low_risk': 1881})"
      ]
     },
     "metadata": {},
     "execution_count": 26
    }
   ],
   "source": [
    "# Resample the data using the ClusterCentroids resampler\n",
    "X_cc_resampled,y_cc_resampled=ClusterCentroids(random_state=1).fit_resample(X_train,y_train)\n",
    "# View the count of target classes with Counter\n",
    "Counter(y_cc_resampled)"
   ]
  },
  {
   "cell_type": "code",
   "execution_count": 27,
   "metadata": {},
   "outputs": [],
   "source": [
    "# Train the Logistic Regression model using the resampled data\n",
    "cc_model = classifier.fit(X_cc_resampled,y_cc_resampled)"
   ]
  },
  {
   "cell_type": "code",
   "execution_count": 28,
   "metadata": {},
   "outputs": [
    {
     "output_type": "stream",
     "name": "stdout",
     "text": [
      "Cluster Centroids (Undersampling) Model Balanced Accuracy Score 0.9929503031930944\n"
     ]
    }
   ],
   "source": [
    "# Calculate the balanced accuracy score\n",
    "y_cc_pred = cc_model.predict(X_test)\n",
    "cc_bac = balanced_accuracy_score(y_test,y_cc_pred)\n",
    "print('Cluster Centroids (Undersampling) Model Balanced Accuracy Score',cc_bac)\n"
   ]
  },
  {
   "cell_type": "code",
   "execution_count": 29,
   "metadata": {},
   "outputs": [
    {
     "output_type": "stream",
     "name": "stdout",
     "text": [
      "Undersampling (Cluster Centroids) Model Confusion Matrix\n"
     ]
    },
    {
     "output_type": "display_data",
     "data": {
      "text/plain": "          Predicted 0  Predicted 1\nActual 0          614            5\nActual 1          113        18652",
      "text/html": "<div>\n<style scoped>\n    .dataframe tbody tr th:only-of-type {\n        vertical-align: middle;\n    }\n\n    .dataframe tbody tr th {\n        vertical-align: top;\n    }\n\n    .dataframe thead th {\n        text-align: right;\n    }\n</style>\n<table border=\"1\" class=\"dataframe\">\n  <thead>\n    <tr style=\"text-align: right;\">\n      <th></th>\n      <th>Predicted 0</th>\n      <th>Predicted 1</th>\n    </tr>\n  </thead>\n  <tbody>\n    <tr>\n      <th>Actual 0</th>\n      <td>614</td>\n      <td>5</td>\n    </tr>\n    <tr>\n      <th>Actual 1</th>\n      <td>113</td>\n      <td>18652</td>\n    </tr>\n  </tbody>\n</table>\n</div>"
     },
     "metadata": {}
    }
   ],
   "source": [
    "# Display the confusion matrix\n",
    "cc_cm = pd.DataFrame(confusion_matrix(y_test,y_cc_pred),index=['Actual 0','Actual 1'], columns=['Predicted 0','Predicted 1'])\n",
    "print('Undersampling (Cluster Centroids) Model Confusion Matrix')\n",
    "display(cc_cm)"
   ]
  },
  {
   "cell_type": "code",
   "execution_count": 30,
   "metadata": {},
   "outputs": [
    {
     "output_type": "stream",
     "name": "stdout",
     "text": [
      "                   pre       rec       spe        f1       geo       iba       sup\n\n  high_risk       0.84      0.99      0.99      0.91      0.99      0.99       619\n   low_risk       1.00      0.99      0.99      1.00      0.99      0.99     18765\n\navg / total       0.99      0.99      0.99      0.99      0.99      0.99     19384\n\n"
     ]
    }
   ],
   "source": [
    "# Print the imbalanced classification report\n",
    "cc_report = classification_report_imbalanced(y_test,y_cc_pred)\n",
    "print(cc_report)"
   ]
  },
  {
   "cell_type": "markdown",
   "metadata": {},
   "source": [
    "# Combination (Over and Under) Sampling\n",
    "\n",
    "In this section, you will test a combination over- and under-sampling algorithm to determine if the algorithm results in the best performance compared to the other sampling algorithms above. You will resample the data using the SMOTEENN algorithm and complete the folliowing steps:\n",
    "\n",
    "1. View the count of the target classes using `Counter` from the collections library. \n",
    "3. Use the resampled data to train a logistic regression model.\n",
    "3. Calculate the balanced accuracy score from sklearn.metrics.\n",
    "4. Display the confusion matrix from sklearn.metrics.\n",
    "5. Generate a classication report using the `imbalanced_classification_report` from imbalanced-learn.\n",
    "\n",
    "Note: Use a random state of 1 for each sampling algorithm to ensure consistency between tests"
   ]
  },
  {
   "cell_type": "code",
   "execution_count": 31,
   "metadata": {},
   "outputs": [
    {
     "output_type": "execute_result",
     "data": {
      "text/plain": [
       "Counter({'high_risk': 55596, 'low_risk': 55934})"
      ]
     },
     "metadata": {},
     "execution_count": 31
    }
   ],
   "source": [
    "# Resample the training data with SMOTEENN\n",
    "\n",
    "X_comb_resampled,y_comb_resampled=SMOTEENN(random_state=1).fit_resample(X_train,y_train)\n",
    "# View the count of target classes with Counter\n",
    "Counter(y_comb_resampled)"
   ]
  },
  {
   "cell_type": "code",
   "execution_count": 32,
   "metadata": {},
   "outputs": [
    {
     "output_type": "execute_result",
     "data": {
      "text/plain": [
       "LogisticRegression(random_state=1)"
      ]
     },
     "metadata": {},
     "execution_count": 32
    }
   ],
   "source": [
    "# Train the Logistic Regression model using the resampled data\n",
    "comb_lr_model = classifier.fit(X_comb_resampled,y_comb_resampled)\n",
    "comb_lr_model"
   ]
  },
  {
   "cell_type": "code",
   "execution_count": 33,
   "metadata": {},
   "outputs": [
    {
     "output_type": "stream",
     "name": "stdout",
     "text": [
      "SMOTEENN Model Balanced Accuracy Score 0.9934649587814939\n"
     ]
    }
   ],
   "source": [
    "# Calculate the balanced accuracy score\n",
    "y_comb_pred = comb_lr_model.predict(X_test)\n",
    "comb_bac = balanced_accuracy_score(y_test,y_comb_pred)\n",
    "print('SMOTEENN Model Balanced Accuracy Score',comb_bac)"
   ]
  },
  {
   "cell_type": "code",
   "execution_count": 34,
   "metadata": {},
   "outputs": [
    {
     "output_type": "stream",
     "name": "stdout",
     "text": [
      "SMOTEENN Model Confusion Matrix\n"
     ]
    },
    {
     "output_type": "display_data",
     "data": {
      "text/plain": "          Predicted 0  Predicted 1\nActual 0          615            4\nActual 1          124        18641",
      "text/html": "<div>\n<style scoped>\n    .dataframe tbody tr th:only-of-type {\n        vertical-align: middle;\n    }\n\n    .dataframe tbody tr th {\n        vertical-align: top;\n    }\n\n    .dataframe thead th {\n        text-align: right;\n    }\n</style>\n<table border=\"1\" class=\"dataframe\">\n  <thead>\n    <tr style=\"text-align: right;\">\n      <th></th>\n      <th>Predicted 0</th>\n      <th>Predicted 1</th>\n    </tr>\n  </thead>\n  <tbody>\n    <tr>\n      <th>Actual 0</th>\n      <td>615</td>\n      <td>4</td>\n    </tr>\n    <tr>\n      <th>Actual 1</th>\n      <td>124</td>\n      <td>18641</td>\n    </tr>\n  </tbody>\n</table>\n</div>"
     },
     "metadata": {}
    }
   ],
   "source": [
    "# Display the confusion matrix\n",
    "comb_cm = pd.DataFrame(confusion_matrix(y_test,y_comb_pred),index=['Actual 0','Actual 1'], columns=['Predicted 0','Predicted 1'])\n",
    "print('SMOTEENN Model Confusion Matrix')\n",
    "display(comb_cm)"
   ]
  },
  {
   "cell_type": "code",
   "execution_count": 35,
   "metadata": {},
   "outputs": [
    {
     "output_type": "stream",
     "name": "stdout",
     "text": [
      "                   pre       rec       spe        f1       geo       iba       sup\n\n  high_risk       0.83      0.99      0.99      0.91      0.99      0.99       619\n   low_risk       1.00      0.99      0.99      1.00      0.99      0.99     18765\n\navg / total       0.99      0.99      0.99      0.99      0.99      0.99     19384\n\n"
     ]
    }
   ],
   "source": [
    "# Print the imbalanced classification report\n",
    "comb_report = classification_report_imbalanced(y_test,y_comb_pred)\n",
    "print(comb_report)"
   ]
  },
  {
   "cell_type": "code",
   "execution_count": 36,
   "metadata": {},
   "outputs": [
    {
     "output_type": "stream",
     "name": "stdout",
     "text": [
      "Simple Logistic Regression:        0.9889115309798473\nCluster Centroid (Undersampling):  0.9929503031930944\nRandom Oversampling:               0.9934383134311076\nSMOTE Oversampling:                0.9934649587814939\nCombined Over and Under Sampling:  0.9934649587814939\n"
     ]
    }
   ],
   "source": [
    "print(\"Simple Logistic Regression:       \", slr_bac)\n",
    "print(\"Cluster Centroid (Undersampling): \", cc_bac)\n",
    "print(\"Random Oversampling:              \", ros_bac)\n",
    "print(\"SMOTE Oversampling:               \", smote_bac)\n",
    "print(\"Combined Over and Under Sampling: \", comb_bac)\n",
    "\n"
   ]
  },
  {
   "cell_type": "code",
   "execution_count": 37,
   "metadata": {},
   "outputs": [
    {
     "output_type": "stream",
     "name": "stdout",
     "text": [
      "Simple Logistic Regression: \n                   pre       rec       spe        f1       geo       iba       sup\n\n  high_risk       0.84      0.98      0.99      0.91      0.99      0.98       619\n   low_risk       1.00      0.99      0.98      1.00      0.99      0.98     18765\n\navg / total       0.99      0.99      0.98      0.99      0.99      0.98     19384\n\nSMOTE: \n                   pre       rec       spe        f1       geo       iba       sup\n\n  high_risk       0.83      0.99      0.99      0.91      0.99      0.99       619\n   low_risk       1.00      0.99      0.99      1.00      0.99      0.99     18765\n\navg / total       0.99      0.99      0.99      0.99      0.99      0.99     19384\n\nRandom Oversampling: \n                   pre       rec       spe        f1       geo       iba       sup\n\n  high_risk       0.83      0.99      0.99      0.91      0.99      0.99       619\n   low_risk       1.00      0.99      0.99      1.00      0.99      0.99     18765\n\navg / total       0.99      0.99      0.99      0.99      0.99      0.99     19384\n\nUndersampling: \n                   pre       rec       spe        f1       geo       iba       sup\n\n  high_risk       0.84      0.99      0.99      0.91      0.99      0.99       619\n   low_risk       1.00      0.99      0.99      1.00      0.99      0.99     18765\n\navg / total       0.99      0.99      0.99      0.99      0.99      0.99     19384\n\nCombined (Over / Under) Sampling:\n                   pre       rec       spe        f1       geo       iba       sup\n\n  high_risk       0.83      0.99      0.99      0.91      0.99      0.99       619\n   low_risk       1.00      0.99      0.99      1.00      0.99      0.99     18765\n\navg / total       0.99      0.99      0.99      0.99      0.99      0.99     19384\n\n"
     ]
    }
   ],
   "source": [
    "print(\"Simple Logistic Regression: \")\n",
    "print(slr_report)\n",
    "print(\"SMOTE: \")\n",
    "print(smote_report)\n",
    "print(\"Random Oversampling: \")\n",
    "print(ros_report)\n",
    "print(\"Undersampling: \")\n",
    "print(cc_report)\n",
    "print(\"Combined (Over / Under) Sampling:\")\n",
    "print(comb_report)\n"
   ]
  },
  {
   "cell_type": "markdown",
   "metadata": {},
   "source": [
    "# Final Questions\n",
    "\n",
    "1. Which model had the best balanced accuracy score?\n",
    "\n",
    "* *The Undersampling and Combined (Over and Under) Sampling models produced the best balance accuracy scores (0.9934649587814939).*\n",
    "\n",
    "2. Which model had the best recall score?\n",
    "\n",
    "* *Each of the resampling models (Combined, Random Oversampling, SMOTE algorithm, and Undersampling), each generated the highest recall for both high_risk and low_risk (99%).*\n",
    "\n",
    "3. Which model had the best geometric mean score?\n",
    "\n",
    "* *All the models generated a 99% geometric mean score.*\n"
   ]
  }
 ],
 "metadata": {
  "kernelspec": {
   "display_name": "Python 3",
   "language": "python",
   "name": "python3"
  },
  "language_info": {
   "codemirror_mode": {
    "name": "ipython",
    "version": 3
   },
   "file_extension": ".py",
   "mimetype": "text/x-python",
   "name": "python",
   "nbconvert_exporter": "python",
   "pygments_lexer": "ipython3",
   "version": "3.7.9-final"
  }
 },
 "nbformat": 4,
 "nbformat_minor": 4
}